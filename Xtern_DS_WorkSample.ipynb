{
 "cells": [
  {
   "cell_type": "markdown",
   "metadata": {},
   "source": [
    "# 1 Identifying the trending restaurants with your own scoring algorithm\n",
    "    Assumption: The meaning of Popular to me means having the most votes(70%) while having the highest rates(30%). I decide to not use reviews as one of the metrics because reviews tend to show people's opinions, either like or dislike. We cannot identify people's preferences by only looking at the quantified reviews, which is number. So votes and ratings are more representative compare to the reviews in the dataset. \n",
    "\n",
    "    I also choose the top 1% to be the trending restaurants"
   ]
  },
  {
   "cell_type": "code",
   "execution_count": 17,
   "metadata": {},
   "outputs": [],
   "source": [
    "import pandas as pd\n",
    "import numpy as np\n",
    "from matplotlib import pyplot as plt"
   ]
  },
  {
   "cell_type": "code",
   "execution_count": 18,
   "metadata": {},
   "outputs": [],
   "source": [
    "df = pd.read_csv('2020-XTern-DS.csv')\n"
   ]
  },
  {
   "cell_type": "code",
   "execution_count": 19,
   "metadata": {},
   "outputs": [],
   "source": [
    "df_new = df.copy()"
   ]
  },
  {
   "cell_type": "code",
   "execution_count": 20,
   "metadata": {},
   "outputs": [],
   "source": [
    "df_new['Votes'] = df_new['Votes'].replace(\"-\", 0)\n",
    "df_new['Rating'] = df_new['Rating'].replace(\"-\", 0)\n",
    "df_new['Rating'] = df_new['Rating'].replace(\"NEW\", -1) #new restaurants as -1\n",
    "df_new['Rating'] = df_new['Rating'].replace(\"Opening Soon\", -2) #not open yet as -2\n",
    "df_new['Average_Cost'] = df_new['Average_Cost'].str.replace('$', '')\n",
    "df_new['Average_Cost'] = df_new['Average_Cost'].str.replace(',', '').astype(float)\n",
    "df_new['Average_Cost'] = df_new['Average_Cost'].astype(float)\n",
    "df_new['Minimum_Order'] = df_new['Minimum_Order'].str.replace('$', '')\n",
    "df_new['Minimum_Order'] = df_new['Minimum_Order'].astype(float)\n",
    "df_new['Cook_Time'] = df_new['Cook_Time'].str.replace(' minutes', '')\n",
    "df_new['Cook_Time'] = df_new['Cook_Time'].astype(float)\n",
    "df_new['Reviews'] = df_new['Reviews'].replace(\"-\", 0)\n",
    "df_new['Reviews'] = df_new['Reviews'].astype(int)\n",
    "df_new['Restaurant'] = df_new['Restaurant'].astype('string')\n",
    "df_new = df_new.astype({'Rating':'float', 'Votes':\"int\", \"Cuisines\":\"category\"})\n"
   ]
  },
  {
   "cell_type": "code",
   "execution_count": 21,
   "metadata": {
    "scrolled": true
   },
   "outputs": [
    {
     "data": {
      "text/html": [
       "<div>\n",
       "<style scoped>\n",
       "    .dataframe tbody tr th:only-of-type {\n",
       "        vertical-align: middle;\n",
       "    }\n",
       "\n",
       "    .dataframe tbody tr th {\n",
       "        vertical-align: top;\n",
       "    }\n",
       "\n",
       "    .dataframe thead th {\n",
       "        text-align: right;\n",
       "    }\n",
       "</style>\n",
       "<table border=\"1\" class=\"dataframe\">\n",
       "  <thead>\n",
       "    <tr style=\"text-align: right;\">\n",
       "      <th></th>\n",
       "      <th>Restaurant</th>\n",
       "      <th>Latitude</th>\n",
       "      <th>Longitude</th>\n",
       "      <th>Cuisines</th>\n",
       "      <th>Average_Cost</th>\n",
       "      <th>Minimum_Order</th>\n",
       "      <th>Rating</th>\n",
       "      <th>Votes</th>\n",
       "      <th>Reviews</th>\n",
       "      <th>Cook_Time</th>\n",
       "      <th>ranking</th>\n",
       "    </tr>\n",
       "  </thead>\n",
       "  <tbody>\n",
       "    <tr>\n",
       "      <th>1180</th>\n",
       "      <td>ID_1064</td>\n",
       "      <td>39.587777</td>\n",
       "      <td>-85.564805</td>\n",
       "      <td>Continental, North Indian, BBQ, Steak</td>\n",
       "      <td>80.0</td>\n",
       "      <td>50.0</td>\n",
       "      <td>4.7</td>\n",
       "      <td>9054</td>\n",
       "      <td>6504</td>\n",
       "      <td>45.0</td>\n",
       "      <td>1</td>\n",
       "    </tr>\n",
       "    <tr>\n",
       "      <th>1300</th>\n",
       "      <td>ID_1666</td>\n",
       "      <td>39.959980</td>\n",
       "      <td>-85.903329</td>\n",
       "      <td>Mexican, American, Italian, Burger</td>\n",
       "      <td>50.0</td>\n",
       "      <td>99.0</td>\n",
       "      <td>4.6</td>\n",
       "      <td>4903</td>\n",
       "      <td>3989</td>\n",
       "      <td>65.0</td>\n",
       "      <td>2</td>\n",
       "    </tr>\n",
       "    <tr>\n",
       "      <th>1428</th>\n",
       "      <td>ID_2051</td>\n",
       "      <td>39.759886</td>\n",
       "      <td>-85.500507</td>\n",
       "      <td>Italian, Continental, Chinese, Mexican, Fast F...</td>\n",
       "      <td>30.0</td>\n",
       "      <td>50.0</td>\n",
       "      <td>4.7</td>\n",
       "      <td>3975</td>\n",
       "      <td>2359</td>\n",
       "      <td>65.0</td>\n",
       "      <td>3</td>\n",
       "    </tr>\n",
       "    <tr>\n",
       "      <th>759</th>\n",
       "      <td>ID_6915</td>\n",
       "      <td>39.303801</td>\n",
       "      <td>-85.960137</td>\n",
       "      <td>European, Italian, American, Salad</td>\n",
       "      <td>65.0</td>\n",
       "      <td>50.0</td>\n",
       "      <td>4.6</td>\n",
       "      <td>2858</td>\n",
       "      <td>1673</td>\n",
       "      <td>30.0</td>\n",
       "      <td>4</td>\n",
       "    </tr>\n",
       "    <tr>\n",
       "      <th>973</th>\n",
       "      <td>ID_2421</td>\n",
       "      <td>39.351230</td>\n",
       "      <td>-85.012645</td>\n",
       "      <td>Continental, North Indian, Mughlai, Italian, A...</td>\n",
       "      <td>80.0</td>\n",
       "      <td>50.0</td>\n",
       "      <td>4.5</td>\n",
       "      <td>2831</td>\n",
       "      <td>1415</td>\n",
       "      <td>30.0</td>\n",
       "      <td>5</td>\n",
       "    </tr>\n",
       "    <tr>\n",
       "      <th>213</th>\n",
       "      <td>ID_7158</td>\n",
       "      <td>39.200086</td>\n",
       "      <td>-85.576006</td>\n",
       "      <td>Ice Cream, Cafe, Pizza, Burger, Beverages</td>\n",
       "      <td>20.0</td>\n",
       "      <td>50.0</td>\n",
       "      <td>4.5</td>\n",
       "      <td>2805</td>\n",
       "      <td>1457</td>\n",
       "      <td>45.0</td>\n",
       "      <td>6</td>\n",
       "    </tr>\n",
       "    <tr>\n",
       "      <th>197</th>\n",
       "      <td>ID_2041</td>\n",
       "      <td>39.169006</td>\n",
       "      <td>-85.230237</td>\n",
       "      <td>Italian, Pizza, Salad, Healthy Food, Mexican, ...</td>\n",
       "      <td>65.0</td>\n",
       "      <td>50.0</td>\n",
       "      <td>4.4</td>\n",
       "      <td>3248</td>\n",
       "      <td>1603</td>\n",
       "      <td>45.0</td>\n",
       "      <td>7</td>\n",
       "    </tr>\n",
       "    <tr>\n",
       "      <th>123</th>\n",
       "      <td>ID_2885</td>\n",
       "      <td>39.543546</td>\n",
       "      <td>-85.186797</td>\n",
       "      <td>German, Italian, Cafe</td>\n",
       "      <td>45.0</td>\n",
       "      <td>50.0</td>\n",
       "      <td>4.3</td>\n",
       "      <td>4691</td>\n",
       "      <td>2547</td>\n",
       "      <td>45.0</td>\n",
       "      <td>8</td>\n",
       "    </tr>\n",
       "    <tr>\n",
       "      <th>335</th>\n",
       "      <td>ID_1947</td>\n",
       "      <td>39.092982</td>\n",
       "      <td>-85.673167</td>\n",
       "      <td>Bar Food, North Indian, Italian, Continental</td>\n",
       "      <td>55.0</td>\n",
       "      <td>50.0</td>\n",
       "      <td>4.3</td>\n",
       "      <td>3394</td>\n",
       "      <td>1845</td>\n",
       "      <td>30.0</td>\n",
       "      <td>9</td>\n",
       "    </tr>\n",
       "    <tr>\n",
       "      <th>80</th>\n",
       "      <td>ID_7753</td>\n",
       "      <td>39.571114</td>\n",
       "      <td>-85.069320</td>\n",
       "      <td>European, Continental, North Indian, Desserts</td>\n",
       "      <td>75.0</td>\n",
       "      <td>50.0</td>\n",
       "      <td>4.3</td>\n",
       "      <td>3124</td>\n",
       "      <td>1660</td>\n",
       "      <td>45.0</td>\n",
       "      <td>10</td>\n",
       "    </tr>\n",
       "    <tr>\n",
       "      <th>486</th>\n",
       "      <td>ID_7678</td>\n",
       "      <td>39.978556</td>\n",
       "      <td>-85.285230</td>\n",
       "      <td>Asian, Continental, North Indian</td>\n",
       "      <td>50.0</td>\n",
       "      <td>50.0</td>\n",
       "      <td>4.6</td>\n",
       "      <td>1507</td>\n",
       "      <td>1131</td>\n",
       "      <td>30.0</td>\n",
       "      <td>11</td>\n",
       "    </tr>\n",
       "    <tr>\n",
       "      <th>1462</th>\n",
       "      <td>ID_7739</td>\n",
       "      <td>39.832479</td>\n",
       "      <td>-85.899246</td>\n",
       "      <td>Cafe, Desserts, French, Bakery, European</td>\n",
       "      <td>25.0</td>\n",
       "      <td>50.0</td>\n",
       "      <td>4.6</td>\n",
       "      <td>1502</td>\n",
       "      <td>819</td>\n",
       "      <td>30.0</td>\n",
       "      <td>12</td>\n",
       "    </tr>\n",
       "    <tr>\n",
       "      <th>1261</th>\n",
       "      <td>ID_635</td>\n",
       "      <td>39.446849</td>\n",
       "      <td>-85.027294</td>\n",
       "      <td>Mishti</td>\n",
       "      <td>5.0</td>\n",
       "      <td>99.0</td>\n",
       "      <td>4.4</td>\n",
       "      <td>1512</td>\n",
       "      <td>579</td>\n",
       "      <td>45.0</td>\n",
       "      <td>13</td>\n",
       "    </tr>\n",
       "    <tr>\n",
       "      <th>701</th>\n",
       "      <td>ID_635</td>\n",
       "      <td>39.748078</td>\n",
       "      <td>-85.735573</td>\n",
       "      <td>Mishti</td>\n",
       "      <td>5.0</td>\n",
       "      <td>99.0</td>\n",
       "      <td>4.4</td>\n",
       "      <td>1512</td>\n",
       "      <td>579</td>\n",
       "      <td>45.0</td>\n",
       "      <td>13</td>\n",
       "    </tr>\n",
       "    <tr>\n",
       "      <th>732</th>\n",
       "      <td>ID_8087</td>\n",
       "      <td>39.729100</td>\n",
       "      <td>-85.422667</td>\n",
       "      <td>Chinese, Thai, Asian, Malaysian, Vietnamese, S...</td>\n",
       "      <td>60.0</td>\n",
       "      <td>99.0</td>\n",
       "      <td>4.2</td>\n",
       "      <td>3782</td>\n",
       "      <td>1948</td>\n",
       "      <td>30.0</td>\n",
       "      <td>14</td>\n",
       "    </tr>\n",
       "    <tr>\n",
       "      <th>602</th>\n",
       "      <td>ID_8529</td>\n",
       "      <td>39.356060</td>\n",
       "      <td>-85.011488</td>\n",
       "      <td>Cafe, Fast Food</td>\n",
       "      <td>30.0</td>\n",
       "      <td>50.0</td>\n",
       "      <td>4.5</td>\n",
       "      <td>1349</td>\n",
       "      <td>972</td>\n",
       "      <td>65.0</td>\n",
       "      <td>15</td>\n",
       "    </tr>\n",
       "    <tr>\n",
       "      <th>770</th>\n",
       "      <td>ID_847</td>\n",
       "      <td>39.446138</td>\n",
       "      <td>-85.139694</td>\n",
       "      <td>North Indian, Street Food, South Indian, Mithai</td>\n",
       "      <td>30.0</td>\n",
       "      <td>99.0</td>\n",
       "      <td>4.2</td>\n",
       "      <td>3021</td>\n",
       "      <td>1174</td>\n",
       "      <td>65.0</td>\n",
       "      <td>16</td>\n",
       "    </tr>\n",
       "    <tr>\n",
       "      <th>1058</th>\n",
       "      <td>ID_1841</td>\n",
       "      <td>39.914316</td>\n",
       "      <td>-85.074936</td>\n",
       "      <td>Cafe, Fast Food, Beverages</td>\n",
       "      <td>30.0</td>\n",
       "      <td>50.0</td>\n",
       "      <td>4.4</td>\n",
       "      <td>1434</td>\n",
       "      <td>941</td>\n",
       "      <td>45.0</td>\n",
       "      <td>17</td>\n",
       "    </tr>\n",
       "    <tr>\n",
       "      <th>203</th>\n",
       "      <td>ID_4878</td>\n",
       "      <td>39.888921</td>\n",
       "      <td>-85.187477</td>\n",
       "      <td>Cafe, Continental, Italian</td>\n",
       "      <td>40.0</td>\n",
       "      <td>50.0</td>\n",
       "      <td>4.2</td>\n",
       "      <td>2828</td>\n",
       "      <td>1443</td>\n",
       "      <td>45.0</td>\n",
       "      <td>18</td>\n",
       "    </tr>\n",
       "    <tr>\n",
       "      <th>167</th>\n",
       "      <td>ID_1316</td>\n",
       "      <td>39.602564</td>\n",
       "      <td>-85.443609</td>\n",
       "      <td>Cafe, Italian</td>\n",
       "      <td>60.0</td>\n",
       "      <td>50.0</td>\n",
       "      <td>4.2</td>\n",
       "      <td>2653</td>\n",
       "      <td>1581</td>\n",
       "      <td>65.0</td>\n",
       "      <td>19</td>\n",
       "    </tr>\n",
       "  </tbody>\n",
       "</table>\n",
       "</div>"
      ],
      "text/plain": [
       "     Restaurant   Latitude  Longitude  \\\n",
       "1180    ID_1064  39.587777 -85.564805   \n",
       "1300    ID_1666  39.959980 -85.903329   \n",
       "1428    ID_2051  39.759886 -85.500507   \n",
       "759     ID_6915  39.303801 -85.960137   \n",
       "973     ID_2421  39.351230 -85.012645   \n",
       "213     ID_7158  39.200086 -85.576006   \n",
       "197     ID_2041  39.169006 -85.230237   \n",
       "123     ID_2885  39.543546 -85.186797   \n",
       "335     ID_1947  39.092982 -85.673167   \n",
       "80      ID_7753  39.571114 -85.069320   \n",
       "486     ID_7678  39.978556 -85.285230   \n",
       "1462    ID_7739  39.832479 -85.899246   \n",
       "1261     ID_635  39.446849 -85.027294   \n",
       "701      ID_635  39.748078 -85.735573   \n",
       "732     ID_8087  39.729100 -85.422667   \n",
       "602     ID_8529  39.356060 -85.011488   \n",
       "770      ID_847  39.446138 -85.139694   \n",
       "1058    ID_1841  39.914316 -85.074936   \n",
       "203     ID_4878  39.888921 -85.187477   \n",
       "167     ID_1316  39.602564 -85.443609   \n",
       "\n",
       "                                               Cuisines  Average_Cost  \\\n",
       "1180              Continental, North Indian, BBQ, Steak          80.0   \n",
       "1300                 Mexican, American, Italian, Burger          50.0   \n",
       "1428  Italian, Continental, Chinese, Mexican, Fast F...          30.0   \n",
       "759                  European, Italian, American, Salad          65.0   \n",
       "973   Continental, North Indian, Mughlai, Italian, A...          80.0   \n",
       "213           Ice Cream, Cafe, Pizza, Burger, Beverages          20.0   \n",
       "197   Italian, Pizza, Salad, Healthy Food, Mexican, ...          65.0   \n",
       "123                               German, Italian, Cafe          45.0   \n",
       "335        Bar Food, North Indian, Italian, Continental          55.0   \n",
       "80        European, Continental, North Indian, Desserts          75.0   \n",
       "486                    Asian, Continental, North Indian          50.0   \n",
       "1462           Cafe, Desserts, French, Bakery, European          25.0   \n",
       "1261                                             Mishti           5.0   \n",
       "701                                              Mishti           5.0   \n",
       "732   Chinese, Thai, Asian, Malaysian, Vietnamese, S...          60.0   \n",
       "602                                     Cafe, Fast Food          30.0   \n",
       "770     North Indian, Street Food, South Indian, Mithai          30.0   \n",
       "1058                         Cafe, Fast Food, Beverages          30.0   \n",
       "203                          Cafe, Continental, Italian          40.0   \n",
       "167                                       Cafe, Italian          60.0   \n",
       "\n",
       "      Minimum_Order  Rating  Votes  Reviews  Cook_Time  ranking  \n",
       "1180           50.0     4.7   9054     6504       45.0        1  \n",
       "1300           99.0     4.6   4903     3989       65.0        2  \n",
       "1428           50.0     4.7   3975     2359       65.0        3  \n",
       "759            50.0     4.6   2858     1673       30.0        4  \n",
       "973            50.0     4.5   2831     1415       30.0        5  \n",
       "213            50.0     4.5   2805     1457       45.0        6  \n",
       "197            50.0     4.4   3248     1603       45.0        7  \n",
       "123            50.0     4.3   4691     2547       45.0        8  \n",
       "335            50.0     4.3   3394     1845       30.0        9  \n",
       "80             50.0     4.3   3124     1660       45.0       10  \n",
       "486            50.0     4.6   1507     1131       30.0       11  \n",
       "1462           50.0     4.6   1502      819       30.0       12  \n",
       "1261           99.0     4.4   1512      579       45.0       13  \n",
       "701            99.0     4.4   1512      579       45.0       13  \n",
       "732            99.0     4.2   3782     1948       30.0       14  \n",
       "602            50.0     4.5   1349      972       65.0       15  \n",
       "770            99.0     4.2   3021     1174       65.0       16  \n",
       "1058           50.0     4.4   1434      941       45.0       17  \n",
       "203            50.0     4.2   2828     1443       45.0       18  \n",
       "167            50.0     4.2   2653     1581       65.0       19  "
      ]
     },
     "execution_count": 21,
     "metadata": {},
     "output_type": "execute_result"
    }
   ],
   "source": [
    "#Top 1% trending restaurants with new ranking metrics, 70% of votes rank and 30% of rating rank. \n",
    "rank_votes = df_new['Votes'].rank(method = 'average', ascending = False).astype(float)\n",
    "rank_rating= df_new['Rating'].rank(method = 'average', ascending = False).astype(float)\n",
    "df_new['ranking'] = (rank_votes * 0.7+ rank_rating * 0.3).rank(method='dense').astype(int)\n",
    "popular = df_new.sort_values(by = ['ranking'], ascending = True).head(20)\n",
    "popular"
   ]
  },
  {
   "cell_type": "code",
   "execution_count": 22,
   "metadata": {},
   "outputs": [
    {
     "data": {
      "image/png": "[encoded data removed]",
      "text/plain": [
       "<Figure size 432x288 with 1 Axes>"
      ]
     },
     "metadata": {
      "needs_background": "light"
     },
     "output_type": "display_data"
    }
   ],
   "source": [
    "plt.scatter(x=\"Latitude\", y=\"Longitude\", data=popular)\n",
    "plt.title('Location of Trending Restaurants')\n",
    "plt.xlabel('Latitude')\n",
    "plt.ylabel('Longitude')\n",
    "plt.show()"
   ]
  },
  {
   "cell_type": "code",
   "execution_count": 25,
   "metadata": {},
   "outputs": [
    {
     "data": {
      "image/png": "[encoded data removed]",
      "text/plain": [
       "<Figure size 432x288 with 1 Axes>"
      ]
     },
     "metadata": {
      "needs_background": "light"
     },
     "output_type": "display_data"
    }
   ],
   "source": [
    "plt.hist('Average_Cost', data = popular)\n",
    "plt.title('Average Cost of Trending Restaurants')\n",
    "plt.xlabel('Average Cost')\n",
    "plt.show()"
   ]
  },
  {
   "cell_type": "code",
   "execution_count": 26,
   "metadata": {},
   "outputs": [
    {
     "data": {
      "image/png": "[encoded data removed]",
      "text/plain": [
       "<Figure size 432x288 with 1 Axes>"
      ]
     },
     "metadata": {
      "needs_background": "light"
     },
     "output_type": "display_data"
    }
   ],
   "source": [
    "plt.hist('Cook_Time', data = popular)\n",
    "plt.title('Cook Time of Trending Restaurants')\n",
    "plt.xlabel('Cook Time')\n",
    "plt.show()"
   ]
  },
  {
   "cell_type": "markdown",
   "metadata": {},
   "source": [
    "### Conclusions on Trending Restaurants\n",
    "1. I take 30% of the Rating rank and 70% of the Votes rank to get the new ranking metric. Above DataFrame is the top 1% of the restaurants among all restaurants. They have the highest votes and the best ratings. \n",
    "2. Cafe and Dessert type of restaurant occupies a big proportion among the top 1% restaurants, there are 9 out of 20 restaurants are selling drinks, coffee, and dessert. Asian food, such as Chinese, North Indian is also popular among the top 1% of restaurants. \n",
    "3. Based on the \"Location of Trending Restaurants\" plot above, the top 1% trending restaurants' locations are pretty scatter but fewer of them are on the left side of the graph above. \n",
    "4. Based on the \"Average Cost of Trending Restaurants\" plot above, the top 1% of trending restaurants have an average cost of 30 dollars, 50 dollars, and 80 dollars. \n",
    "5. The cook time of trending restaurants are mostly around 45 minutes. "
   ]
  },
  {
   "cell_type": "markdown",
   "metadata": {},
   "source": [
    "# 2 Clustering restaurant locations to figure out the optimized FoodieX pick up zones"
   ]
  },
  {
   "cell_type": "code",
   "execution_count": 27,
   "metadata": {},
   "outputs": [],
   "source": [
    "from sklearn.cluster import KMeans"
   ]
  },
  {
   "cell_type": "code",
   "execution_count": 28,
   "metadata": {},
   "outputs": [
    {
     "data": {
      "text/plain": [
       "<matplotlib.collections.PathCollection at 0x1d3da8c1280>"
      ]
     },
     "execution_count": 28,
     "metadata": {},
     "output_type": "execute_result"
    },
    {
     "data": {
      "image/png": "[encoded data removed]",
      "text/plain": [
       "<Figure size 432x288 with 1 Axes>"
      ]
     },
     "metadata": {
      "needs_background": "light"
     },
     "output_type": "display_data"
    }
   ],
   "source": [
    "plt.scatter(x=\"Latitude\", y=\"Longitude\", data=df_new) #can't really identify how many clusters do we need"
   ]
  },
  {
   "cell_type": "code",
   "execution_count": 29,
   "metadata": {},
   "outputs": [
    {
     "data": {
      "text/plain": [
       "Text(0, 0.5, 'Error Loss')"
      ]
     },
     "execution_count": 29,
     "metadata": {},
     "output_type": "execute_result"
    },
    {
     "data": {
      "image/png": "[encoded data removed]",
      "text/plain": [
       "<Figure size 432x288 with 1 Axes>"
      ]
     },
     "metadata": {
      "needs_background": "light"
     },
     "output_type": "display_data"
    }
   ],
   "source": [
    "#identifying number of clusters\n",
    "locations = df_new[[\"Latitude\",\"Longitude\"]].to_numpy()\n",
    "error_loss =[] \n",
    "for i in range(1, 21): \n",
    "    kmeans = KMeans(n_clusters = i, max_iter = 500) \n",
    "    kmeans.fit(locations) \n",
    "    error_loss.append(kmeans.inertia_) \n",
    "    \n",
    "plt.plot(range(1, 21), error_loss, 'bx-') \n",
    "plt.xticks(np.arange(1,21, step=1))\n",
    "plt.title(\"Elbow Method for Optimal K\")\n",
    "plt.xlabel(\"K\") \n",
    "plt.ylabel(\"Error Loss\")"
   ]
  },
  {
   "cell_type": "markdown",
   "metadata": {},
   "source": [
    "The optimal number of cluster should be 4 accorindg to the graph"
   ]
  },
  {
   "cell_type": "code",
   "execution_count": 31,
   "metadata": {},
   "outputs": [],
   "source": [
    "kmeans = KMeans(n_clusters = 4, max_iter = 500) \n",
    "kmeans.fit(locations)\n",
    "df_new['cluster_number'] = kmeans.labels_"
   ]
  },
  {
   "cell_type": "code",
   "execution_count": 33,
   "metadata": {},
   "outputs": [
    {
     "data": {
      "image/png": "[encoded data removed]",
      "text/plain": [
       "<Figure size 432x288 with 1 Axes>"
      ]
     },
     "metadata": {
      "needs_background": "light"
     },
     "output_type": "display_data"
    }
   ],
   "source": [
    "#Visualizaing the clusters\n",
    "for number in range(0, 4):\n",
    "    plt.scatter(x = df_new.loc[df_new['cluster_number']==number, 'Latitude'],\n",
    "                y = df_new.loc[df_new['cluster_number'] == number, 'Longitude'], label = 'Cluster ' + str(number))\n",
    "centroids = kmeans.cluster_centers_\n",
    "plt.scatter(centroids[:, 0], centroids[:, 1], s = 250, c='black', marker = \"X\", label = 'Centroids')\n",
    "plt.title('FoodieX Optimized Pick-up Zone')\n",
    "plt.xlabel('Latitude')\n",
    "plt.ylabel('Longitude')\n",
    "plt.show()"
   ]
  },
  {
   "cell_type": "code",
   "execution_count": 34,
   "metadata": {},
   "outputs": [
    {
     "data": {
      "text/plain": [
       "array([[ 39.74127327, -85.24830112],\n",
       "       [ 39.25316086, -85.74962225],\n",
       "       [ 39.75193775, -85.75092562],\n",
       "       [ 39.25546683, -85.24261682]])"
      ]
     },
     "execution_count": 34,
     "metadata": {},
     "output_type": "execute_result"
    }
   ],
   "source": [
    "#Actual Latitude and Longitude of centroids \n",
    "centroids"
   ]
  },
  {
   "cell_type": "markdown",
   "metadata": {},
   "source": [
    "### Conclusion for Optimized Pickup Zone\n",
    "According to the above k means clustering method, I find 4 optimized clusters and their corresponding centroids. Therefore, the optimized pickup zone should be the centroids of each cluster and they have latitude and longitude as (39.7517151, -85.75000818), (39.25221476, -85.7495351), (39.73896479, -85.24680684), (39.25398911, -85.24309421)"
   ]
  },
  {
   "cell_type": "markdown",
   "metadata": {},
   "source": [
    "# 3 Estimating cook time based on restaurant info & Estimating Average Cost based on restaurant info"
   ]
  },
  {
   "cell_type": "code",
   "execution_count": 35,
   "metadata": {
    "scrolled": true
   },
   "outputs": [
    {
     "data": {
      "text/html": [
       "<div>\n",
       "<style scoped>\n",
       "    .dataframe tbody tr th:only-of-type {\n",
       "        vertical-align: middle;\n",
       "    }\n",
       "\n",
       "    .dataframe tbody tr th {\n",
       "        vertical-align: top;\n",
       "    }\n",
       "\n",
       "    .dataframe thead th {\n",
       "        text-align: right;\n",
       "    }\n",
       "</style>\n",
       "<table border=\"1\" class=\"dataframe\">\n",
       "  <thead>\n",
       "    <tr style=\"text-align: right;\">\n",
       "      <th></th>\n",
       "      <th>Latitude</th>\n",
       "      <th>Longitude</th>\n",
       "      <th>Average_Cost</th>\n",
       "      <th>Minimum_Order</th>\n",
       "      <th>Rating</th>\n",
       "      <th>Votes</th>\n",
       "      <th>Reviews</th>\n",
       "      <th>Cook_Time</th>\n",
       "      <th>ranking</th>\n",
       "      <th>cluster_number</th>\n",
       "    </tr>\n",
       "  </thead>\n",
       "  <tbody>\n",
       "    <tr>\n",
       "      <th>Latitude</th>\n",
       "      <td>1.000000</td>\n",
       "      <td>0.002166</td>\n",
       "      <td>0.021242</td>\n",
       "      <td>-0.011385</td>\n",
       "      <td>0.026240</td>\n",
       "      <td>0.012146</td>\n",
       "      <td>0.010361</td>\n",
       "      <td>0.006713</td>\n",
       "      <td>0.003748</td>\n",
       "      <td>-0.361384</td>\n",
       "    </tr>\n",
       "    <tr>\n",
       "      <th>Longitude</th>\n",
       "      <td>0.002166</td>\n",
       "      <td>1.000000</td>\n",
       "      <td>0.007954</td>\n",
       "      <td>-0.003901</td>\n",
       "      <td>0.005491</td>\n",
       "      <td>-0.013347</td>\n",
       "      <td>-0.013176</td>\n",
       "      <td>-0.043249</td>\n",
       "      <td>0.001606</td>\n",
       "      <td>0.006672</td>\n",
       "    </tr>\n",
       "    <tr>\n",
       "      <th>Average_Cost</th>\n",
       "      <td>0.021242</td>\n",
       "      <td>0.007954</td>\n",
       "      <td>1.000000</td>\n",
       "      <td>0.197867</td>\n",
       "      <td>0.266252</td>\n",
       "      <td>0.419111</td>\n",
       "      <td>0.439414</td>\n",
       "      <td>0.226346</td>\n",
       "      <td>-0.473946</td>\n",
       "      <td>0.020040</td>\n",
       "    </tr>\n",
       "    <tr>\n",
       "      <th>Minimum_Order</th>\n",
       "      <td>-0.011385</td>\n",
       "      <td>-0.003901</td>\n",
       "      <td>0.197867</td>\n",
       "      <td>1.000000</td>\n",
       "      <td>0.086903</td>\n",
       "      <td>0.146039</td>\n",
       "      <td>0.151519</td>\n",
       "      <td>0.221671</td>\n",
       "      <td>-0.152767</td>\n",
       "      <td>-0.006226</td>\n",
       "    </tr>\n",
       "    <tr>\n",
       "      <th>Rating</th>\n",
       "      <td>0.026240</td>\n",
       "      <td>0.005491</td>\n",
       "      <td>0.266252</td>\n",
       "      <td>0.086903</td>\n",
       "      <td>1.000000</td>\n",
       "      <td>0.281026</td>\n",
       "      <td>0.249960</td>\n",
       "      <td>0.244145</td>\n",
       "      <td>-0.644206</td>\n",
       "      <td>-0.030784</td>\n",
       "    </tr>\n",
       "    <tr>\n",
       "      <th>Votes</th>\n",
       "      <td>0.012146</td>\n",
       "      <td>-0.013347</td>\n",
       "      <td>0.419111</td>\n",
       "      <td>0.146039</td>\n",
       "      <td>0.281026</td>\n",
       "      <td>1.000000</td>\n",
       "      <td>0.965210</td>\n",
       "      <td>0.230785</td>\n",
       "      <td>-0.614057</td>\n",
       "      <td>-0.009912</td>\n",
       "    </tr>\n",
       "    <tr>\n",
       "      <th>Reviews</th>\n",
       "      <td>0.010361</td>\n",
       "      <td>-0.013176</td>\n",
       "      <td>0.439414</td>\n",
       "      <td>0.151519</td>\n",
       "      <td>0.249960</td>\n",
       "      <td>0.965210</td>\n",
       "      <td>1.000000</td>\n",
       "      <td>0.204738</td>\n",
       "      <td>-0.545860</td>\n",
       "      <td>-0.003198</td>\n",
       "    </tr>\n",
       "    <tr>\n",
       "      <th>Cook_Time</th>\n",
       "      <td>0.006713</td>\n",
       "      <td>-0.043249</td>\n",
       "      <td>0.226346</td>\n",
       "      <td>0.221671</td>\n",
       "      <td>0.244145</td>\n",
       "      <td>0.230785</td>\n",
       "      <td>0.204738</td>\n",
       "      <td>1.000000</td>\n",
       "      <td>-0.380560</td>\n",
       "      <td>0.009913</td>\n",
       "    </tr>\n",
       "    <tr>\n",
       "      <th>ranking</th>\n",
       "      <td>0.003748</td>\n",
       "      <td>0.001606</td>\n",
       "      <td>-0.473946</td>\n",
       "      <td>-0.152767</td>\n",
       "      <td>-0.644206</td>\n",
       "      <td>-0.614057</td>\n",
       "      <td>-0.545860</td>\n",
       "      <td>-0.380560</td>\n",
       "      <td>1.000000</td>\n",
       "      <td>0.016691</td>\n",
       "    </tr>\n",
       "    <tr>\n",
       "      <th>cluster_number</th>\n",
       "      <td>-0.361384</td>\n",
       "      <td>0.006672</td>\n",
       "      <td>0.020040</td>\n",
       "      <td>-0.006226</td>\n",
       "      <td>-0.030784</td>\n",
       "      <td>-0.009912</td>\n",
       "      <td>-0.003198</td>\n",
       "      <td>0.009913</td>\n",
       "      <td>0.016691</td>\n",
       "      <td>1.000000</td>\n",
       "    </tr>\n",
       "  </tbody>\n",
       "</table>\n",
       "</div>"
      ],
      "text/plain": [
       "                Latitude  Longitude  Average_Cost  Minimum_Order    Rating  \\\n",
       "Latitude        1.000000   0.002166      0.021242      -0.011385  0.026240   \n",
       "Longitude       0.002166   1.000000      0.007954      -0.003901  0.005491   \n",
       "Average_Cost    0.021242   0.007954      1.000000       0.197867  0.266252   \n",
       "Minimum_Order  -0.011385  -0.003901      0.197867       1.000000  0.086903   \n",
       "Rating          0.026240   0.005491      0.266252       0.086903  1.000000   \n",
       "Votes           0.012146  -0.013347      0.419111       0.146039  0.281026   \n",
       "Reviews         0.010361  -0.013176      0.439414       0.151519  0.249960   \n",
       "Cook_Time       0.006713  -0.043249      0.226346       0.221671  0.244145   \n",
       "ranking         0.003748   0.001606     -0.473946      -0.152767 -0.644206   \n",
       "cluster_number -0.361384   0.006672      0.020040      -0.006226 -0.030784   \n",
       "\n",
       "                   Votes   Reviews  Cook_Time   ranking  cluster_number  \n",
       "Latitude        0.012146  0.010361   0.006713  0.003748       -0.361384  \n",
       "Longitude      -0.013347 -0.013176  -0.043249  0.001606        0.006672  \n",
       "Average_Cost    0.419111  0.439414   0.226346 -0.473946        0.020040  \n",
       "Minimum_Order   0.146039  0.151519   0.221671 -0.152767       -0.006226  \n",
       "Rating          0.281026  0.249960   0.244145 -0.644206       -0.030784  \n",
       "Votes           1.000000  0.965210   0.230785 -0.614057       -0.009912  \n",
       "Reviews         0.965210  1.000000   0.204738 -0.545860       -0.003198  \n",
       "Cook_Time       0.230785  0.204738   1.000000 -0.380560        0.009913  \n",
       "ranking        -0.614057 -0.545860  -0.380560  1.000000        0.016691  \n",
       "cluster_number -0.009912 -0.003198   0.009913  0.016691        1.000000  "
      ]
     },
     "execution_count": 35,
     "metadata": {},
     "output_type": "execute_result"
    }
   ],
   "source": [
    "df_new.corr()"
   ]
  },
  {
   "cell_type": "markdown",
   "metadata": {},
   "source": [
    "### Conclusion on Correlation Matrix\n",
    "#### For Cook_Time\n",
    "1. According to the above correlation matrix, Cook_Time has the strongest correlation with ranking and it is a negative correlation. This makes sense because the ranking is ordered from smallest to largest. Thus, it indicates that the more popular the restaurants are, the more cooking time it will take.  \n",
    "2. Cook time also has a positive relationship with Rating and Votes.\n",
    "\n",
    "#### For Average Cost\n",
    "1. Average Cost also has the strongest relationship with ranking and it is a negative relationship. This indicates that the more popular the restaurant, the higher the average cost. This also makes sense because first of all, according to the \"Average cost of Trending restaurants\" that I plot in the first section, the average cost is mostly around 30 dollars but also has a large proportion of average cost between 50 dollars to 80 dollars. Intuitively, people love to buy more if they like restaurants. \n",
    "2. Average cost also has a positive relationship with votes and reviews. \n",
    "\n",
    "#### In general\n",
    "1. Votes, Reviews, and ranking seem to have the most influences on the cooking time and average cost based on the correlation matric. \n",
    "\n",
    "I decide to run a *Decition Tree Classification* which can account for the non-linear relationship and among variables while also taking categorical variables into consideration. The correlation matrix only considers one variable's influence on average cost or cook time but with the decision tree, we are able to see the different combinations' variables influence the average cost and cook time. "
   ]
  },
  {
   "cell_type": "code",
   "execution_count": 36,
   "metadata": {},
   "outputs": [],
   "source": [
    "from sklearn.tree import DecisionTreeClassifier\n",
    "from sklearn.model_selection import train_test_split\n",
    "from sklearn import metrics\n",
    "from sklearn import tree"
   ]
  },
  {
   "cell_type": "code",
   "execution_count": 37,
   "metadata": {},
   "outputs": [],
   "source": [
    "df_new = df_new.assign(Cuisines = df_new.Cuisines.str.split(', '))\n"
   ]
  },
  {
   "cell_type": "code",
   "execution_count": 38,
   "metadata": {},
   "outputs": [],
   "source": [
    "df_new = df_new.explode(\"Cuisines\")\n",
    "df_new['Cuisines'] = df_new['Cuisines'].astype('category')"
   ]
  },
  {
   "cell_type": "code",
   "execution_count": 40,
   "metadata": {},
   "outputs": [],
   "source": [
    "#pd.get_dummies(X) X is the dataframe\n",
    "#X_train, X_test, y_train, y_test = train_test_split(X, Y_label, test_size=0.20)\n",
    "df_new2 = pd.get_dummies(df_new)"
   ]
  },
  {
   "cell_type": "code",
   "execution_count": 41,
   "metadata": {},
   "outputs": [
    {
     "name": "stderr",
     "output_type": "stream",
     "text": [
      "<ipython-input-41-43c191535729>:1: FutureWarning: Indexing with multiple keys (implicitly converted to a tuple of keys) will be deprecated, use a list instead.\n",
      "  df_new3 = df_new2.groupby(['Restaurant','Latitude','Longitude', 'Average_Cost','Minimum_Order','Rating','Votes','Reviews','Cook_Time',\n"
     ]
    }
   ],
   "source": [
    "df_new3 = df_new2.groupby(['Restaurant','Latitude','Longitude', 'Average_Cost','Minimum_Order','Rating','Votes','Reviews','Cook_Time',\n",
    " 'ranking'])['Cuisines_Afghan','Cuisines_American','Cuisines_Andhra','Cuisines_Arabian','Cuisines_Asian','Cuisines_Assamese',\n",
    " 'Cuisines_Awadhi','Cuisines_BBQ','Cuisines_Bakery','Cuisines_Bangladeshi','Cuisines_Bar Food','Cuisines_Belgian',\n",
    " 'Cuisines_Bengali','Cuisines_Beverages','Cuisines_Bihari','Cuisines_Biryani','Cuisines_Bohri','Cuisines_Brazilian',\n",
    " 'Cuisines_Bubble Tea','Cuisines_Burger','Cuisines_Burmese','Cuisines_Cafe','Cuisines_Cantonese','Cuisines_Charcoal Chicken',\n",
    " 'Cuisines_Chettinad','Cuisines_Chinese','Cuisines_Coffee','Cuisines_Continental','Cuisines_Desserts','Cuisines_European',\n",
    " 'Cuisines_Fast Food','Cuisines_Finger Food','Cuisines_French','Cuisines_Frozen Yogurt','Cuisines_German','Cuisines_Goan',\n",
    " 'Cuisines_Gujarati','Cuisines_Healthy Food','Cuisines_Hyderabadi','Cuisines_Ice Cream','Cuisines_Indonesian','Cuisines_Italian',\n",
    " 'Cuisines_Japanese','Cuisines_Juices','Cuisines_Kashmiri','Cuisines_Kebab','Cuisines_Kerala','Cuisines_Konkan','Cuisines_Korean',\n",
    " 'Cuisines_Lebanese','Cuisines_Lucknowi','Cuisines_Maharashtrian','Cuisines_Malaysian','Cuisines_Mangalorean','Cuisines_Mediterranean',\n",
    " 'Cuisines_Mexican','Cuisines_Mishti','Cuisines_Mithai','Cuisines_Modern Indian','Cuisines_Momos','Cuisines_Mughlai','Cuisines_Naga',\n",
    " 'Cuisines_North Eastern','Cuisines_North Indian','Cuisines_Odia','Cuisines_Paan','Cuisines_Parsi','Cuisines_Pizza','Cuisines_Poké',\n",
    " 'Cuisines_Portuguese','Cuisines_Rajasthani','Cuisines_Raw Meats','Cuisines_Roast Chicken','Cuisines_Rolls','Cuisines_Salad',\n",
    " 'Cuisines_Sandwich','Cuisines_Seafood','Cuisines_South Indian','Cuisines_Spanish','Cuisines_Sri Lankan','Cuisines_Steak',\n",
    " 'Cuisines_Street Food','Cuisines_Sushi','Cuisines_Tamil','Cuisines_Tea','Cuisines_Thai','Cuisines_Tibetan','Cuisines_Vietnamese',\n",
    " 'Cuisines_Wraps'].sum()"
   ]
  },
  {
   "cell_type": "code",
   "execution_count": 42,
   "metadata": {},
   "outputs": [],
   "source": [
    "df_new3 = df_new3.reset_index()"
   ]
  },
  {
   "cell_type": "markdown",
   "metadata": {},
   "source": [
    "#### Cook Time Estimation"
   ]
  },
  {
   "cell_type": "code",
   "execution_count": 43,
   "metadata": {},
   "outputs": [
    {
     "data": {
      "text/html": [
       "<div>\n",
       "<style scoped>\n",
       "    .dataframe tbody tr th:only-of-type {\n",
       "        vertical-align: middle;\n",
       "    }\n",
       "\n",
       "    .dataframe tbody tr th {\n",
       "        vertical-align: top;\n",
       "    }\n",
       "\n",
       "    .dataframe thead th {\n",
       "        text-align: right;\n",
       "    }\n",
       "</style>\n",
       "<table border=\"1\" class=\"dataframe\">\n",
       "  <thead>\n",
       "    <tr style=\"text-align: right;\">\n",
       "      <th></th>\n",
       "      <th>Restaurant</th>\n",
       "      <th>Latitude</th>\n",
       "      <th>Longitude</th>\n",
       "      <th>Average_Cost</th>\n",
       "      <th>Minimum_Order</th>\n",
       "      <th>Rating</th>\n",
       "      <th>Votes</th>\n",
       "      <th>Reviews</th>\n",
       "      <th>Cook_Time</th>\n",
       "      <th>ranking</th>\n",
       "      <th>...</th>\n",
       "      <th>Cuisines_Sri Lankan</th>\n",
       "      <th>Cuisines_Steak</th>\n",
       "      <th>Cuisines_Street Food</th>\n",
       "      <th>Cuisines_Sushi</th>\n",
       "      <th>Cuisines_Tamil</th>\n",
       "      <th>Cuisines_Tea</th>\n",
       "      <th>Cuisines_Thai</th>\n",
       "      <th>Cuisines_Tibetan</th>\n",
       "      <th>Cuisines_Vietnamese</th>\n",
       "      <th>Cuisines_Wraps</th>\n",
       "    </tr>\n",
       "  </thead>\n",
       "  <tbody>\n",
       "    <tr>\n",
       "      <th>0</th>\n",
       "      <td>ID_1000</td>\n",
       "      <td>39.829351</td>\n",
       "      <td>-85.249351</td>\n",
       "      <td>25.0</td>\n",
       "      <td>50.0</td>\n",
       "      <td>3.7</td>\n",
       "      <td>96</td>\n",
       "      <td>55</td>\n",
       "      <td>30.0</td>\n",
       "      <td>602</td>\n",
       "      <td>...</td>\n",
       "      <td>0</td>\n",
       "      <td>0</td>\n",
       "      <td>0</td>\n",
       "      <td>0</td>\n",
       "      <td>0</td>\n",
       "      <td>0</td>\n",
       "      <td>0</td>\n",
       "      <td>0</td>\n",
       "      <td>0</td>\n",
       "      <td>0</td>\n",
       "    </tr>\n",
       "    <tr>\n",
       "      <th>1</th>\n",
       "      <td>ID_1004</td>\n",
       "      <td>39.417004</td>\n",
       "      <td>-85.148521</td>\n",
       "      <td>10.0</td>\n",
       "      <td>50.0</td>\n",
       "      <td>3.0</td>\n",
       "      <td>4</td>\n",
       "      <td>1</td>\n",
       "      <td>30.0</td>\n",
       "      <td>1083</td>\n",
       "      <td>...</td>\n",
       "      <td>0</td>\n",
       "      <td>0</td>\n",
       "      <td>0</td>\n",
       "      <td>0</td>\n",
       "      <td>0</td>\n",
       "      <td>0</td>\n",
       "      <td>0</td>\n",
       "      <td>0</td>\n",
       "      <td>0</td>\n",
       "      <td>0</td>\n",
       "    </tr>\n",
       "    <tr>\n",
       "      <th>2</th>\n",
       "      <td>ID_1004</td>\n",
       "      <td>39.704981</td>\n",
       "      <td>-85.426350</td>\n",
       "      <td>5.0</td>\n",
       "      <td>50.0</td>\n",
       "      <td>0.0</td>\n",
       "      <td>0</td>\n",
       "      <td>0</td>\n",
       "      <td>30.0</td>\n",
       "      <td>1094</td>\n",
       "      <td>...</td>\n",
       "      <td>0</td>\n",
       "      <td>0</td>\n",
       "      <td>1</td>\n",
       "      <td>0</td>\n",
       "      <td>0</td>\n",
       "      <td>0</td>\n",
       "      <td>0</td>\n",
       "      <td>0</td>\n",
       "      <td>0</td>\n",
       "      <td>0</td>\n",
       "    </tr>\n",
       "    <tr>\n",
       "      <th>3</th>\n",
       "      <td>ID_1005</td>\n",
       "      <td>39.444192</td>\n",
       "      <td>-85.842006</td>\n",
       "      <td>15.0</td>\n",
       "      <td>50.0</td>\n",
       "      <td>4.3</td>\n",
       "      <td>253</td>\n",
       "      <td>118</td>\n",
       "      <td>30.0</td>\n",
       "      <td>235</td>\n",
       "      <td>...</td>\n",
       "      <td>0</td>\n",
       "      <td>0</td>\n",
       "      <td>1</td>\n",
       "      <td>0</td>\n",
       "      <td>0</td>\n",
       "      <td>0</td>\n",
       "      <td>0</td>\n",
       "      <td>0</td>\n",
       "      <td>0</td>\n",
       "      <td>0</td>\n",
       "    </tr>\n",
       "    <tr>\n",
       "      <th>4</th>\n",
       "      <td>ID_1007</td>\n",
       "      <td>39.620668</td>\n",
       "      <td>-85.114727</td>\n",
       "      <td>25.0</td>\n",
       "      <td>50.0</td>\n",
       "      <td>0.0</td>\n",
       "      <td>0</td>\n",
       "      <td>0</td>\n",
       "      <td>30.0</td>\n",
       "      <td>1094</td>\n",
       "      <td>...</td>\n",
       "      <td>0</td>\n",
       "      <td>0</td>\n",
       "      <td>0</td>\n",
       "      <td>0</td>\n",
       "      <td>0</td>\n",
       "      <td>0</td>\n",
       "      <td>0</td>\n",
       "      <td>0</td>\n",
       "      <td>0</td>\n",
       "      <td>0</td>\n",
       "    </tr>\n",
       "    <tr>\n",
       "      <th>...</th>\n",
       "      <td>...</td>\n",
       "      <td>...</td>\n",
       "      <td>...</td>\n",
       "      <td>...</td>\n",
       "      <td>...</td>\n",
       "      <td>...</td>\n",
       "      <td>...</td>\n",
       "      <td>...</td>\n",
       "      <td>...</td>\n",
       "      <td>...</td>\n",
       "      <td>...</td>\n",
       "      <td>...</td>\n",
       "      <td>...</td>\n",
       "      <td>...</td>\n",
       "      <td>...</td>\n",
       "      <td>...</td>\n",
       "      <td>...</td>\n",
       "      <td>...</td>\n",
       "      <td>...</td>\n",
       "      <td>...</td>\n",
       "      <td>...</td>\n",
       "    </tr>\n",
       "    <tr>\n",
       "      <th>2014</th>\n",
       "      <td>ID_986</td>\n",
       "      <td>39.063546</td>\n",
       "      <td>-85.028933</td>\n",
       "      <td>20.0</td>\n",
       "      <td>50.0</td>\n",
       "      <td>-1.0</td>\n",
       "      <td>0</td>\n",
       "      <td>0</td>\n",
       "      <td>30.0</td>\n",
       "      <td>1095</td>\n",
       "      <td>...</td>\n",
       "      <td>0</td>\n",
       "      <td>0</td>\n",
       "      <td>0</td>\n",
       "      <td>0</td>\n",
       "      <td>0</td>\n",
       "      <td>0</td>\n",
       "      <td>0</td>\n",
       "      <td>0</td>\n",
       "      <td>0</td>\n",
       "      <td>0</td>\n",
       "    </tr>\n",
       "    <tr>\n",
       "      <th>2015</th>\n",
       "      <td>ID_988</td>\n",
       "      <td>39.697670</td>\n",
       "      <td>-85.024031</td>\n",
       "      <td>35.0</td>\n",
       "      <td>50.0</td>\n",
       "      <td>3.9</td>\n",
       "      <td>2768</td>\n",
       "      <td>1369</td>\n",
       "      <td>30.0</td>\n",
       "      <td>97</td>\n",
       "      <td>...</td>\n",
       "      <td>0</td>\n",
       "      <td>0</td>\n",
       "      <td>0</td>\n",
       "      <td>0</td>\n",
       "      <td>0</td>\n",
       "      <td>0</td>\n",
       "      <td>0</td>\n",
       "      <td>0</td>\n",
       "      <td>0</td>\n",
       "      <td>0</td>\n",
       "    </tr>\n",
       "    <tr>\n",
       "      <th>2016</th>\n",
       "      <td>ID_989</td>\n",
       "      <td>39.029861</td>\n",
       "      <td>-85.078761</td>\n",
       "      <td>30.0</td>\n",
       "      <td>50.0</td>\n",
       "      <td>4.1</td>\n",
       "      <td>1177</td>\n",
       "      <td>696</td>\n",
       "      <td>45.0</td>\n",
       "      <td>64</td>\n",
       "      <td>...</td>\n",
       "      <td>0</td>\n",
       "      <td>0</td>\n",
       "      <td>0</td>\n",
       "      <td>0</td>\n",
       "      <td>0</td>\n",
       "      <td>0</td>\n",
       "      <td>0</td>\n",
       "      <td>0</td>\n",
       "      <td>0</td>\n",
       "      <td>0</td>\n",
       "    </tr>\n",
       "    <tr>\n",
       "      <th>2017</th>\n",
       "      <td>ID_99</td>\n",
       "      <td>39.689777</td>\n",
       "      <td>-85.088266</td>\n",
       "      <td>10.0</td>\n",
       "      <td>50.0</td>\n",
       "      <td>3.8</td>\n",
       "      <td>101</td>\n",
       "      <td>38</td>\n",
       "      <td>30.0</td>\n",
       "      <td>555</td>\n",
       "      <td>...</td>\n",
       "      <td>0</td>\n",
       "      <td>0</td>\n",
       "      <td>1</td>\n",
       "      <td>0</td>\n",
       "      <td>0</td>\n",
       "      <td>0</td>\n",
       "      <td>0</td>\n",
       "      <td>0</td>\n",
       "      <td>0</td>\n",
       "      <td>0</td>\n",
       "    </tr>\n",
       "    <tr>\n",
       "      <th>2018</th>\n",
       "      <td>ID_996</td>\n",
       "      <td>39.922521</td>\n",
       "      <td>-85.160773</td>\n",
       "      <td>5.0</td>\n",
       "      <td>50.0</td>\n",
       "      <td>0.0</td>\n",
       "      <td>0</td>\n",
       "      <td>0</td>\n",
       "      <td>45.0</td>\n",
       "      <td>1094</td>\n",
       "      <td>...</td>\n",
       "      <td>0</td>\n",
       "      <td>0</td>\n",
       "      <td>0</td>\n",
       "      <td>0</td>\n",
       "      <td>0</td>\n",
       "      <td>0</td>\n",
       "      <td>0</td>\n",
       "      <td>0</td>\n",
       "      <td>0</td>\n",
       "      <td>0</td>\n",
       "    </tr>\n",
       "  </tbody>\n",
       "</table>\n",
       "<p>2019 rows × 99 columns</p>\n",
       "</div>"
      ],
      "text/plain": [
       "     Restaurant   Latitude  Longitude  Average_Cost  Minimum_Order  Rating  \\\n",
       "0       ID_1000  39.829351 -85.249351          25.0           50.0     3.7   \n",
       "1       ID_1004  39.417004 -85.148521          10.0           50.0     3.0   \n",
       "2       ID_1004  39.704981 -85.426350           5.0           50.0     0.0   \n",
       "3       ID_1005  39.444192 -85.842006          15.0           50.0     4.3   \n",
       "4       ID_1007  39.620668 -85.114727          25.0           50.0     0.0   \n",
       "...         ...        ...        ...           ...            ...     ...   \n",
       "2014     ID_986  39.063546 -85.028933          20.0           50.0    -1.0   \n",
       "2015     ID_988  39.697670 -85.024031          35.0           50.0     3.9   \n",
       "2016     ID_989  39.029861 -85.078761          30.0           50.0     4.1   \n",
       "2017      ID_99  39.689777 -85.088266          10.0           50.0     3.8   \n",
       "2018     ID_996  39.922521 -85.160773           5.0           50.0     0.0   \n",
       "\n",
       "      Votes  Reviews  Cook_Time  ranking  ...  Cuisines_Sri Lankan  \\\n",
       "0        96       55       30.0      602  ...                    0   \n",
       "1         4        1       30.0     1083  ...                    0   \n",
       "2         0        0       30.0     1094  ...                    0   \n",
       "3       253      118       30.0      235  ...                    0   \n",
       "4         0        0       30.0     1094  ...                    0   \n",
       "...     ...      ...        ...      ...  ...                  ...   \n",
       "2014      0        0       30.0     1095  ...                    0   \n",
       "2015   2768     1369       30.0       97  ...                    0   \n",
       "2016   1177      696       45.0       64  ...                    0   \n",
       "2017    101       38       30.0      555  ...                    0   \n",
       "2018      0        0       45.0     1094  ...                    0   \n",
       "\n",
       "      Cuisines_Steak  Cuisines_Street Food  Cuisines_Sushi  Cuisines_Tamil  \\\n",
       "0                  0                     0               0               0   \n",
       "1                  0                     0               0               0   \n",
       "2                  0                     1               0               0   \n",
       "3                  0                     1               0               0   \n",
       "4                  0                     0               0               0   \n",
       "...              ...                   ...             ...             ...   \n",
       "2014               0                     0               0               0   \n",
       "2015               0                     0               0               0   \n",
       "2016               0                     0               0               0   \n",
       "2017               0                     1               0               0   \n",
       "2018               0                     0               0               0   \n",
       "\n",
       "      Cuisines_Tea  Cuisines_Thai  Cuisines_Tibetan  Cuisines_Vietnamese  \\\n",
       "0                0              0                 0                    0   \n",
       "1                0              0                 0                    0   \n",
       "2                0              0                 0                    0   \n",
       "3                0              0                 0                    0   \n",
       "4                0              0                 0                    0   \n",
       "...            ...            ...               ...                  ...   \n",
       "2014             0              0                 0                    0   \n",
       "2015             0              0                 0                    0   \n",
       "2016             0              0                 0                    0   \n",
       "2017             0              0                 0                    0   \n",
       "2018             0              0                 0                    0   \n",
       "\n",
       "      Cuisines_Wraps  \n",
       "0                  0  \n",
       "1                  0  \n",
       "2                  0  \n",
       "3                  0  \n",
       "4                  0  \n",
       "...              ...  \n",
       "2014               0  \n",
       "2015               0  \n",
       "2016               0  \n",
       "2017               0  \n",
       "2018               0  \n",
       "\n",
       "[2019 rows x 99 columns]"
      ]
     },
     "execution_count": 43,
     "metadata": {},
     "output_type": "execute_result"
    }
   ],
   "source": [
    "X = df_new3.iloc[:, 1:]\n",
    "X = X.loc[:, X.columns!='Cook_Time']\n",
    "Y = df_new3['Cook_Time']\n",
    "X_train, X_test, Y_train, Y_test = train_test_split(X, Y, test_size=0.20)\n",
    "df_new3"
   ]
  },
  {
   "cell_type": "code",
   "execution_count": 44,
   "metadata": {},
   "outputs": [],
   "source": [
    "clf = DecisionTreeClassifier(max_depth = 10, criterion = 'entropy', min_samples_leaf = 20)"
   ]
  },
  {
   "cell_type": "code",
   "execution_count": 45,
   "metadata": {},
   "outputs": [],
   "source": [
    "clf.fit(X_train, Y_train)\n",
    "y_pred = clf.predict(X_test, check_input=True)"
   ]
  },
  {
   "cell_type": "code",
   "execution_count": 46,
   "metadata": {},
   "outputs": [
    {
     "name": "stdout",
     "output_type": "stream",
     "text": [
      "Accuracy: 0.7004950495049505\n"
     ]
    }
   ],
   "source": [
    "print(\"Accuracy:\",metrics.accuracy_score(Y_test, y_pred))"
   ]
  },
  {
   "cell_type": "code",
   "execution_count": 55,
   "metadata": {},
   "outputs": [
    {
     "data": {
      "image/png": "[encoded data removed]",
      "text/plain": [
       "<Figure size 432x288 with 1 Axes>"
      ]
     },
     "metadata": {
      "needs_background": "light"
     },
     "output_type": "display_data"
    }
   ],
   "source": [
    "# get importance\n",
    "importance = clf.feature_importances_\n",
    "# plot feature importance\n",
    "plt.bar([x for x in range(len(importance))], importance)\n",
    "plt.title(\"Features Importance\")\n",
    "plt.show()"
   ]
  },
  {
   "cell_type": "code",
   "execution_count": 48,
   "metadata": {},
   "outputs": [
    {
     "data": {
      "text/plain": [
       "[('Votes', 0.5361347725957483),\n",
       " ('ranking', 0.14996812715873406),\n",
       " ('Longitude', 0.10389007911569152),\n",
       " ('Latitude', 0.03804738609148636),\n",
       " ('Average_Cost', 0.03205156767395296),\n",
       " ('Rating', 0.027216036118487708),\n",
       " ('Cuisines_North Indian', 0.023748083963312246),\n",
       " ('Minimum_Order', 0.021814937727895365),\n",
       " ('Cuisines_Fast Food', 0.02059564754207611),\n",
       " ('Reviews', 0.0183178753254971),\n",
       " ('Cuisines_Bakery', 0.0163274604610293)]"
      ]
     },
     "execution_count": 48,
     "metadata": {},
     "output_type": "execute_result"
    }
   ],
   "source": [
    "#Features importance \n",
    "sorted(list(zip(list(X), importance)), key = lambda x: x[1], reverse = True)[:11]"
   ]
  },
  {
   "cell_type": "markdown",
   "metadata": {},
   "source": [
    "### Conclusion on Decision Tree of Cook Time Estimation\n",
    "1. According to the features importance of the decision tree above, votes and ranking are the most important feature that influences the cooking time, then location, longitude, and Latitude are also important. \n",
    "\n",
    "2. Cuisines type such as North Indian, Fast Food, and Bakery also have impacts on Cook Time. This finding aligns with the findings that we have in section 1. Since these types of food are mostly among the top 1% trending restaurants, the restaurants are or are not these specific types can have impacts on the cooking time. \n",
    "\n",
    "3. In general, Cook time is more related to how popular the restaurants are and less related to the cuisines type of the restaurants. Popular or not of a restaurant is defined by the ranking metric in the first section. "
   ]
  },
  {
   "cell_type": "markdown",
   "metadata": {},
   "source": [
    "#### Average Cost Estimation"
   ]
  },
  {
   "cell_type": "code",
   "execution_count": 57,
   "metadata": {},
   "outputs": [],
   "source": [
    "X_cost = df_new3.iloc[:, 1:]\n",
    "X_cost = X_cost.loc[:, X_cost.columns!='Average_Cost']\n",
    "Y_cost = df_new3['Average_Cost']\n",
    "X_traincost, X_testcost, Y_traincost, Y_testcost = train_test_split(X_cost, Y_cost, test_size=0.20)"
   ]
  },
  {
   "cell_type": "code",
   "execution_count": 103,
   "metadata": {},
   "outputs": [],
   "source": [
    "clf = DecisionTreeClassifier(criterion = 'entropy', min_samples_leaf = 50)"
   ]
  },
  {
   "cell_type": "code",
   "execution_count": 104,
   "metadata": {},
   "outputs": [],
   "source": [
    "clf.fit(X_traincost, Y_traincost)\n",
    "y_predcost = clf.predict(X_testcost, check_input=True)"
   ]
  },
  {
   "cell_type": "code",
   "execution_count": 105,
   "metadata": {},
   "outputs": [
    {
     "name": "stdout",
     "output_type": "stream",
     "text": [
      "Accuracy: 0.3292079207920792\n"
     ]
    }
   ],
   "source": [
    "print(\"Accuracy:\",metrics.accuracy_score(Y_testcost, y_predcost))"
   ]
  },
  {
   "cell_type": "code",
   "execution_count": 106,
   "metadata": {},
   "outputs": [
    {
     "data": {
      "image/png": "[encoded data removed]",
      "text/plain": [
       "<Figure size 432x288 with 1 Axes>"
      ]
     },
     "metadata": {
      "needs_background": "light"
     },
     "output_type": "display_data"
    }
   ],
   "source": [
    "# get importance\n",
    "importance = clf.feature_importances_\n",
    "# plot feature importance\n",
    "plt.bar([x for x in range(len(importance))], importance)\n",
    "plt.title(\"Features Importance\")\n",
    "plt.show()"
   ]
  },
  {
   "cell_type": "code",
   "execution_count": 107,
   "metadata": {},
   "outputs": [
    {
     "data": {
      "text/plain": [
       "[('Reviews', 0.5529984194892775),\n",
       " ('Cuisines_Chinese', 0.15038704931259314),\n",
       " ('Cuisines_North Indian', 0.07103465465189406),\n",
       " ('Cuisines_Italian', 0.05500834488205409),\n",
       " ('Latitude', 0.04808326823745512),\n",
       " ('Cuisines_Fast Food', 0.04256971932086792),\n",
       " ('ranking', 0.035967923808458764),\n",
       " ('Longitude', 0.018058863942038046),\n",
       " ('Cook_Time', 0.01690419533503875),\n",
       " ('Votes', 0.008987561020322546),\n",
       " ('Minimum_Order', 0.0)]"
      ]
     },
     "execution_count": 107,
     "metadata": {},
     "output_type": "execute_result"
    }
   ],
   "source": [
    "#Features importance\n",
    "sorted(list(zip(list(X_cost), importance)), key = lambda x: x[1], reverse = True)[:11]"
   ]
  },
  {
   "cell_type": "markdown",
   "metadata": {},
   "source": [
    "### Conclusion on Decision Tree of Average Cost Estimation\n",
    "1. According to the features importance of the decision tree above, Reviews are the most important features that influence the average cost. This is reasonable as more reviews we have, more new customers will be attracted by the photos and comments of restaurants and therefore, buy more food in a restaurant. \n",
    "2. Cuisine type is also a significant variable that can influence the average cost of the restaurants. Especially whether the restaurants are Chinese, North Indian, Italian, and fast food or not will have an impact on the average cost. \n",
    "3. In general, the average cost is more related to people's comments and types of restaurants and less related to how popular the restaurant is. Popular or not of a restaurant is defined by the ranking metric in the first section. "
   ]
  },
  {
   "cell_type": "markdown",
   "metadata": {},
   "source": [
    "# 4 Findings"
   ]
  },
  {
   "cell_type": "markdown",
   "metadata": {},
   "source": [
    "    1. Among the top 1% trending restaurants in the dataset, Cafe and Dessert type of restaurants occupies a big proportion among the top 1 % restaurants. Moreover, the average cost of these trending Restaurants is most around 30 dollars, 50 dollars, and 80 dollars and their cook time is mostly around 45 minutes. The location of the trending restaurants is pretty scattered in town based on the latitude and longitude. \n",
    "\n",
    "    2. Based on the latitude and longitude of the restaurants, I separated the restaurants into 4 optimized clusters. According to these 4 optimized clusters and their corresponding centroids, the optimized pickup zone, Latitude, and Longitude, for FoodieX should be (39.7517151, -85.75000818), (39.25221476, -85.7495351), (39.73896479, -85.24680684), and (39.25398911, -85.24309421).\n",
    "    \n",
    "    3. Based on the correlation matrix and features importance of the decision tree, the cooking time of restaurants is more impacted by how popular the restaurant is and less impacted by the cuisines type of the restaurants. Specifically, the higher the votes and ranking, the longer the cooking time. This is reasonable as the more popular restaurants, the more customers they have. \n",
    "    \n",
    "    4. Based on the correlation matric and features importance of decision tree, the average cost of restaurants is more affected by the reviews and cuisine type of the restaurants and less influenced by how popular the restaurant is. Specifically, restaurants are North Indian food, Fast food, and Chinese food or not can cause the average cost to be different among restaurants. "
   ]
  }
 ],
 "metadata": {
  "kernelspec": {
   "display_name": "Python 3",
   "language": "python",
   "name": "python3"
  },
  "language_info": {
   "codemirror_mode": {
    "name": "ipython",
    "version": 3
   },
   "file_extension": ".py",
   "mimetype": "text/x-python",
   "name": "python",
   "nbconvert_exporter": "python",
   "pygments_lexer": "ipython3",
   "version": "3.8.3"
  }
 },
 "nbformat": 4,
 "nbformat_minor": 4
}
